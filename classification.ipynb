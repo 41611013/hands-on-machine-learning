{
 "cells": [
  {
   "cell_type": "markdown",
   "metadata": {},
   "source": [
    "# Classification Exercise - MNIST Number Data\n",
    "\n",
    "**Table of Contents**\n",
    "\n",
    "* [Libraries & Data Import](#Import-libraries-&-MNIST-data-from-Scikit-Learn)\n",
    "* [Data Analysis](#Data-Analysis)\n",
    "* [Train a Binary Classifier](#Train-a-Binary-Classifier)\n",
    "* [Performance Measures](#Performance-Measures)\n",
    "* [Multiclass Classification (In Progress)](#Multiclass-Classification)\n",
    "* [Error Analysis](#Error-Analysis)\n",
    "* [Multilabel Classification](#Multilabel-Classification)\n",
    "* [Multioutput Classification](#Multioutput-Classification)\n",
    "* [Exercises (In-Progress)](#Exercises)\n",
    "    * [Achieving 97% Accuracy on MNIST](#Achieving-High-Accuracy)\n",
    "    * [Data Augmentation](#Data-Augmentation)\n",
    "    * [Titanic dataset](#Titanic-dataset)\n",
    "    * [Spam Classifier](#Spam-Classifier)"
   ]
  },
  {
   "cell_type": "markdown",
   "metadata": {},
   "source": [
    "## Import libraries & MNIST data from Scikit-Learn"
   ]
  },
  {
   "cell_type": "code",
   "execution_count": 1,
   "metadata": {},
   "outputs": [
    {
     "data": {
      "text/plain": [
       "{'COL_NAMES': ['label', 'data'],\n",
       " 'DESCR': 'mldata.org dataset: mnist-original',\n",
       " 'data': array([[0, 0, 0, ..., 0, 0, 0],\n",
       "        [0, 0, 0, ..., 0, 0, 0],\n",
       "        [0, 0, 0, ..., 0, 0, 0],\n",
       "        ..., \n",
       "        [0, 0, 0, ..., 0, 0, 0],\n",
       "        [0, 0, 0, ..., 0, 0, 0],\n",
       "        [0, 0, 0, ..., 0, 0, 0]], dtype=uint8),\n",
       " 'target': array([ 0.,  0.,  0., ...,  9.,  9.,  9.])}"
      ]
     },
     "execution_count": 1,
     "metadata": {},
     "output_type": "execute_result"
    }
   ],
   "source": [
    "import numpy as np\n",
    "import pandas as pd\n",
    "import scipy as sp\n",
    "import warnings\n",
    "import matplotlib\n",
    "%matplotlib inline\n",
    "import matplotlib.pyplot as plt\n",
    "\n",
    "\n",
    "from sklearn.datasets import fetch_mldata\n",
    "mnist = fetch_mldata('MNIST original')\n",
    "mnist"
   ]
  },
  {
   "cell_type": "code",
   "execution_count": 2,
   "metadata": {
    "collapsed": true
   },
   "outputs": [],
   "source": [
    "X,y=mnist['data'],mnist['target']"
   ]
  },
  {
   "cell_type": "code",
   "execution_count": 3,
   "metadata": {},
   "outputs": [
    {
     "name": "stdout",
     "output_type": "stream",
     "text": [
      "(70000, 784) (70000,)\n"
     ]
    }
   ],
   "source": [
    "print(X.shape,y.shape)"
   ]
  },
  {
   "cell_type": "markdown",
   "metadata": {},
   "source": [
    "## Data Analysis\n",
    "\n",
    "We can look at how the 784-featured array would look like visually by looking at a single data point. It can be reshaped into a 28x28 square matrix and then plotted using the matplot binary mapping."
   ]
  },
  {
   "cell_type": "code",
   "execution_count": 4,
   "metadata": {},
   "outputs": [
    {
     "data": {
      "image/png": "[encoded data removed]",
      "text/plain": [
       "<matplotlib.figure.Figure at 0x1092037b8>"
      ]
     },
     "metadata": {},
     "output_type": "display_data"
    }
   ],
   "source": [
    "some_digit=X[27553]\n",
    "some_digit_image=some_digit.reshape(28,28)\n",
    "plt.imshow(some_digit_image,cmap=matplotlib.cm.binary,interpolation=\"nearest\")\n",
    "plt.axis(\"off\")\n",
    "plt.show()"
   ]
  },
  {
   "cell_type": "markdown",
   "metadata": {},
   "source": [
    "It appears to be the number 5. It can be confirmed by looking at the target value at the corresponding data point."
   ]
  },
  {
   "cell_type": "code",
   "execution_count": 5,
   "metadata": {},
   "outputs": [
    {
     "data": {
      "text/plain": [
       "4.0"
      ]
     },
     "execution_count": 5,
     "metadata": {},
     "output_type": "execute_result"
    }
   ],
   "source": [
    "y[27553]"
   ]
  },
  {
   "cell_type": "markdown",
   "metadata": {},
   "source": [
    "The 70000 datapoints can be split into a 60000 training set and 10000 test set as follows. We will also shuffle the training data to ensure that we get the fairest training model (make sure to shuffle so that you don't end up having too many of the same digits and too few of the others.)"
   ]
  },
  {
   "cell_type": "code",
   "execution_count": 6,
   "metadata": {
    "collapsed": true
   },
   "outputs": [],
   "source": [
    "Xtrain,Xtest,ytrain,ytest=X[:60000],X[60000:],y[:60000],y[60000:]"
   ]
  },
  {
   "cell_type": "code",
   "execution_count": 7,
   "metadata": {
    "collapsed": true
   },
   "outputs": [],
   "source": [
    "shuffle_index=np.random.permutation(60000)\n",
    "Xtrain,ytrain=Xtrain[shuffle_index],ytrain[shuffle_index]"
   ]
  },
  {
   "cell_type": "markdown",
   "metadata": {},
   "source": [
    "## Train a Binary Classifier\n",
    "\n",
    "We are going to train a binary classifier on a single number, say 4. We will use this to prove why accuracy may not be the best performance metric in this situation. \n",
    "\n",
    "The classifier model used will be Stochastic Gradient Descent. SGD has the advantage of being capable of handling very larget datasets efficiently (because it handles training instances independently; it's well suited for online learning)."
   ]
  },
  {
   "cell_type": "code",
   "execution_count": 8,
   "metadata": {},
   "outputs": [
    {
     "data": {
      "text/plain": [
       "SGDClassifier(alpha=0.0001, average=False, class_weight=None, epsilon=0.1,\n",
       "       eta0=0.0, fit_intercept=True, l1_ratio=0.15,\n",
       "       learning_rate='optimal', loss='hinge', n_iter=5, n_jobs=1,\n",
       "       penalty='l2', power_t=0.5, random_state=42, shuffle=True, verbose=0,\n",
       "       warm_start=False)"
      ]
     },
     "execution_count": 8,
     "metadata": {},
     "output_type": "execute_result"
    }
   ],
   "source": [
    "ytrain_4 = (ytrain==4)\n",
    "ytest_4 = (ytest==4)\n",
    "\n",
    "from sklearn.linear_model import SGDClassifier\n",
    "\n",
    "sgd_clf=SGDClassifier(random_state=42)\n",
    "sgd_clf.fit(Xtrain,ytrain_4)"
   ]
  },
  {
   "cell_type": "code",
   "execution_count": 9,
   "metadata": {},
   "outputs": [
    {
     "data": {
      "text/plain": [
       "array([ True], dtype=bool)"
      ]
     },
     "execution_count": 9,
     "metadata": {},
     "output_type": "execute_result"
    }
   ],
   "source": [
    "sgd_clf.predict([some_digit])"
   ]
  },
  {
   "cell_type": "markdown",
   "metadata": {},
   "source": [
    "The SGD classifier was fit to predict true for all 4's and false for otherwise. Since our single data point *some_digit* was 4, it was predicted to be true. (It guessed correctly) \n",
    "\n",
    "## Performance Measures\n",
    "\n",
    "### 1. Accuracy\n",
    "\n",
    "Now we can measure how well SGD does by using cross-validation."
   ]
  },
  {
   "cell_type": "code",
   "execution_count": 10,
   "metadata": {},
   "outputs": [
    {
     "data": {
      "text/plain": [
       "array([ 0.97260137,  0.96055   ,  0.97624881])"
      ]
     },
     "execution_count": 10,
     "metadata": {},
     "output_type": "execute_result"
    }
   ],
   "source": [
    "from sklearn.model_selection import cross_val_score\n",
    "cross_val_score(sgd_clf,Xtrain,ytrain_4,cv=3,scoring=\"accuracy\")"
   ]
  },
  {
   "cell_type": "markdown",
   "metadata": {},
   "source": [
    "The tests show over 95% accuracy. But is the SGD really that much accurate? To prove not so, we will test the other side; the model to test whether a number is **not** 4."
   ]
  },
  {
   "cell_type": "code",
   "execution_count": 11,
   "metadata": {},
   "outputs": [
    {
     "data": {
      "text/plain": [
       "array([ 0.903  ,  0.90065,  0.90425])"
      ]
     },
     "execution_count": 11,
     "metadata": {},
     "output_type": "execute_result"
    }
   ],
   "source": [
    "from sklearn.base import BaseEstimator\n",
    "\n",
    "class Never4Classifier(BaseEstimator):\n",
    "    def fit(self,X,y=None):\n",
    "        pass\n",
    "    def predict(self,X):\n",
    "        return np.zeros((len(X),1),dtype=bool)\n",
    "    \n",
    "never4_clf = Never4Classifier()\n",
    "cross_val_score(never4_clf,Xtrain,ytrain_4,cv=3,scoring='accuracy')"
   ]
  },
  {
   "cell_type": "markdown",
   "metadata": {},
   "source": [
    "The accuracy of predicting a \"not 4\" is still over 90%. Why is this true? Because the data is pretty balanced in terms of how many each digit is represented. Therefore, there are about 90% of the whole data that are *not 4*. So even with a simple classifier that predicts not 4 for all dataset, it will be at 90% accurate. \n",
    "\n",
    "This tells us that Accuracy is not necessarily the best performance measurement for classifiers **especially with skewed dataset**.\n",
    "\n",
    "### 2. Confusion Matrix\n",
    "\n",
    "Instead, we can evaluate using the *confusion matrix*. Confusion matrix is a matrix that shows the number of instances in which an instance \"A\" was classified as instance \"B\". For example in our dataset, if a model predicts a \"5\" as a \"3\", we would look at the 5th row and 3rd column of the confusion matrix and see that prediction tallied.\n",
    "\n",
    "We will run a SGD in cross validation and then produce a confusion matrix based on our data.\n"
   ]
  },
  {
   "cell_type": "code",
   "execution_count": 12,
   "metadata": {},
   "outputs": [
    {
     "data": {
      "text/plain": [
       "array([[52726,  1432],\n",
       "       [  380,  5462]])"
      ]
     },
     "execution_count": 12,
     "metadata": {},
     "output_type": "execute_result"
    }
   ],
   "source": [
    "from sklearn.model_selection import cross_val_predict\n",
    "from sklearn.metrics import confusion_matrix\n",
    "\n",
    "ytrain_pred=cross_val_predict(sgd_clf,Xtrain,ytrain_4,cv=3)\n",
    "confusion_matrix(ytrain_4,ytrain_pred)"
   ]
  },
  {
   "cell_type": "markdown",
   "metadata": {},
   "source": [
    "The matrix tells us the following:\n",
    "* 53205 of the non-4's were predicted as a non-4 (*True Negative*)\n",
    "* 953 of the non-4's were incorrectly predicted as a 4 (*False Positive*)\n",
    "* 504 of the 4's were incorrectly predicted as a non-4 (*False Negative*)\n",
    "* 5338 of the 4's were predicted as a 4 (*True Positive*)\n",
    "\n",
    "Based on the confusion matrix, we derive two basic metrics: *precision* and *recall*. \n",
    "\n",
    "* Precision measures the accuracy of the positive predictions: $$Precision = \\frac{TP}{TP+FP}$$\n",
    "* Recall measures the ratio of positives that are correctly detected: $$Recall = \\frac{TP}{TP+FN}$$\n",
    "\n",
    "### 3. Precision/Recall\n",
    "\n",
    "Now we can implement the Precision and Recall to see some more suitable metrics for the SGD."
   ]
  },
  {
   "cell_type": "code",
   "execution_count": 13,
   "metadata": {},
   "outputs": [
    {
     "name": "stdout",
     "output_type": "stream",
     "text": [
      "Precision:  0.792283144764\n",
      "Recall:  0.934953782951\n"
     ]
    }
   ],
   "source": [
    "from sklearn.metrics import precision_score, recall_score\n",
    "print(\"Precision: \", precision_score(ytrain_4,ytrain_pred))\n",
    "print(\"Recall: \", recall_score(ytrain_4,ytrain_pred))"
   ]
  },
  {
   "cell_type": "code",
   "execution_count": 14,
   "metadata": {},
   "outputs": [
    {
     "name": "stdout",
     "output_type": "stream",
     "text": [
      "Precision by hand:  0.8485137498013035\n",
      "Recall by hand:  0.9137281752824375\n"
     ]
    }
   ],
   "source": [
    "print(\"Precision by hand: \", 5338/(5338+953))\n",
    "print(\"Recall by hand: \", 5338/(5338+504))"
   ]
  },
  {
   "cell_type": "markdown",
   "metadata": {},
   "source": [
    "The new metrics show that the classifier is only 91% accurate predicting the digit 4 correctly, and 84% correct when it predicts a digit as a 4 (well below 97% measured in pure accuracy). \n",
    "\n",
    "It is often convenient to combine *Precision* and *Recall* into a single metric called *F1 score*. *F1 score* is the harmonic mean of precision and recall: \n",
    "$$F_1 = \\frac{2*precision*recall}{precision+recall} =\\frac{TP}{TP+\\frac{FN+FP}{2}}$$\n",
    "\n",
    "We can implement the F1 score using the sklearn function:"
   ]
  },
  {
   "cell_type": "code",
   "execution_count": 15,
   "metadata": {},
   "outputs": [
    {
     "data": {
      "text/plain": [
       "0.85772613065326642"
      ]
     },
     "execution_count": 15,
     "metadata": {},
     "output_type": "execute_result"
    }
   ],
   "source": [
    "from sklearn.metrics import f1_score\n",
    "f1_score(ytrain_4,ytrain_pred)"
   ]
  },
  {
   "cell_type": "markdown",
   "metadata": {
    "collapsed": true
   },
   "source": [
    "The classifier makes the decision based on something called *decision threshold*. Depending on how you adjust the threshold, the precision and recall may change. We can examine this using the decision_function."
   ]
  },
  {
   "cell_type": "code",
   "execution_count": 16,
   "metadata": {},
   "outputs": [
    {
     "data": {
      "text/plain": [
       "array([ 120328.15056512])"
      ]
     },
     "execution_count": 16,
     "metadata": {},
     "output_type": "execute_result"
    }
   ],
   "source": [
    "y_scores=sgd_clf.decision_function([some_digit])\n",
    "y_scores"
   ]
  },
  {
   "cell_type": "code",
   "execution_count": 17,
   "metadata": {},
   "outputs": [
    {
     "name": "stdout",
     "output_type": "stream",
     "text": [
      "[ True]\n",
      "[False]\n"
     ]
    }
   ],
   "source": [
    "threshold=0\n",
    "y_some_digit_pred =(y_scores>threshold)\n",
    "print(y_some_digit_pred)\n",
    "\n",
    "threshold=200000\n",
    "y_some_digit_pred=(y_scores > threshold)\n",
    "print(y_some_digit_pred)"
   ]
  },
  {
   "cell_type": "code",
   "execution_count": 18,
   "metadata": {},
   "outputs": [
    {
     "data": {
      "image/png": "[encoded data removed]",
      "text/plain": [
       "<matplotlib.figure.Figure at 0x10fb3c160>"
      ]
     },
     "metadata": {},
     "output_type": "display_data"
    },
    {
     "data": {
      "image/png": "[encoded data removed]",
      "text/plain": [
       "<matplotlib.figure.Figure at 0x10fdf36a0>"
      ]
     },
     "metadata": {},
     "output_type": "display_data"
    }
   ],
   "source": [
    "y_scores=cross_val_predict(sgd_clf,Xtrain,ytrain_4,cv=3,method='decision_function')\n",
    "\n",
    "from sklearn.metrics import precision_recall_curve\n",
    "\n",
    "precisions, recalls, thresholds = precision_recall_curve(ytrain_4,y_scores)\n",
    "\n",
    "def plot_precision_recall_vs_threshold(precisions,recalls,thresholds):\n",
    "    ys=[precisions[1:],recalls[1:]]\n",
    "    labels=['precision','recall']\n",
    "    for y,label in zip(ys,labels):\n",
    "        plt.plot(thresholds,y,label=label)\n",
    "    plt.xlabel('Threshold')\n",
    "    plt.legend(loc=\"upper left\")\n",
    "    plt.ylim([0,1])\n",
    "\n",
    "plot_precision_recall_vs_threshold(precisions,recalls,thresholds)\n",
    "plt.show()\n",
    "plt.plot(precisions,recalls)\n",
    "plt.xlabel('Precision')\n",
    "plt.ylabel('Recall')\n",
    "plt.show()\n"
   ]
  },
  {
   "cell_type": "markdown",
   "metadata": {},
   "source": [
    "We can determine the threshold based on where we want the precision/recall to be. Suppose we want 90% precision, then we will need to use approximately 70000 as threshold value."
   ]
  },
  {
   "cell_type": "code",
   "execution_count": 19,
   "metadata": {},
   "outputs": [
    {
     "data": {
      "text/plain": [
       "0.88519021739130432"
      ]
     },
     "execution_count": 19,
     "metadata": {},
     "output_type": "execute_result"
    }
   ],
   "source": [
    "y_train_pred_90 = (y_scores > 70000)\n",
    "precision_score(ytrain_4,y_train_pred_90)"
   ]
  },
  {
   "cell_type": "code",
   "execution_count": 20,
   "metadata": {},
   "outputs": [
    {
     "data": {
      "text/plain": [
       "0.89216021910304688"
      ]
     },
     "execution_count": 20,
     "metadata": {},
     "output_type": "execute_result"
    }
   ],
   "source": [
    "recall_score(ytrain_4,y_train_pred_90)"
   ]
  },
  {
   "cell_type": "markdown",
   "metadata": {},
   "source": [
    "### 4. ROC Curve\n",
    "\n",
    "ROC Curve (Receiver Operating characteristic curve) is another common tool used with binary classifiers. It plots the *true positive rate* (or recall or sensitivity) against *false positive rate* (or specificity), which is the ratio of negative instances that are *incorrectly* classified as positive."
   ]
  },
  {
   "cell_type": "code",
   "execution_count": 21,
   "metadata": {},
   "outputs": [
    {
     "data": {
      "image/png": "[encoded data removed]",
      "text/plain": [
       "<matplotlib.figure.Figure at 0x10fe5a588>"
      ]
     },
     "metadata": {},
     "output_type": "display_data"
    }
   ],
   "source": [
    "from sklearn.metrics import roc_curve\n",
    "\n",
    "fpr,tpr,thresholds = roc_curve(ytrain_4,y_scores)\n",
    "\n",
    "def plot_roc_curve(fpr,tpr,label=None):\n",
    "    plt.plot(fpr,tpr,linewidth=2,label=label)\n",
    "    plt.plot([0,1],[0,1],'k--')\n",
    "    plt.axis([0,1,0,1])\n",
    "    plt.xlabel('False Positive Rate')\n",
    "    plt.ylabel('False Negative Rate')\n",
    "    \n",
    "plot_roc_curve(fpr,tpr)\n",
    "plt.show()"
   ]
  },
  {
   "cell_type": "markdown",
   "metadata": {},
   "source": [
    "The graph shows that higher the recall, higher the specificity. We can also measure the area under the curve (AUC)."
   ]
  },
  {
   "cell_type": "code",
   "execution_count": 22,
   "metadata": {},
   "outputs": [
    {
     "data": {
      "text/plain": [
       "0.98972153243937044"
      ]
     },
     "execution_count": 22,
     "metadata": {},
     "output_type": "execute_result"
    }
   ],
   "source": [
    "from sklearn.metrics import roc_auc_score\n",
    "roc_auc_score(ytrain_4,y_scores)"
   ]
  },
  {
   "cell_type": "markdown",
   "metadata": {},
   "source": [
    "As far as what to use between Precision/Recall and the ROC curve: P/R is better when there are very little positive class or you care more about the false positives than false negatives. ROC curve would be preferable otherwise.'\n",
    "\n",
    "Now knowing the ROC and the AUC score, we can compare another classifier with the SGD. We will use a RandomForestClassifier. Random Forest does NOT have a *decision_function()*; instead we will use *predict_proba()* method."
   ]
  },
  {
   "cell_type": "code",
   "execution_count": 23,
   "metadata": {},
   "outputs": [
    {
     "data": {
      "image/png": "[encoded data removed]",
      "text/plain": [
       "<matplotlib.figure.Figure at 0x1133bca90>"
      ]
     },
     "metadata": {},
     "output_type": "display_data"
    }
   ],
   "source": [
    "from sklearn.ensemble import RandomForestClassifier\n",
    "\n",
    "forest_clf=RandomForestClassifier(random_state=42)\n",
    "y_forest=cross_val_predict(forest_clf,Xtrain,ytrain_4,cv=3,method='predict_proba')\n",
    "\n",
    "y_scores_forest=y_forest[:,1]\n",
    "fpr_forest,tpr_forest,thresholds_forest=roc_curve(ytrain_4,y_scores_forest)\n",
    "\n",
    "plt.plot(fpr,tpr,\"b:\",label=\"SGD\")\n",
    "plot_roc_curve(fpr_forest,tpr_forest,\"Random Forest\")\n",
    "plt.legend(loc=\"lower right\")\n",
    "plt.show()"
   ]
  },
  {
   "cell_type": "markdown",
   "metadata": {},
   "source": [
    "Now you can see that the RandomForestClassifier ROC curve looks much better. We can confirm this by looking at the ROC AUC score:"
   ]
  },
  {
   "cell_type": "code",
   "execution_count": 24,
   "metadata": {},
   "outputs": [
    {
     "data": {
      "text/plain": [
       "0.99285780176148863"
      ]
     },
     "execution_count": 24,
     "metadata": {},
     "output_type": "execute_result"
    }
   ],
   "source": [
    "roc_auc_score(ytrain_4,y_scores_forest)"
   ]
  },
  {
   "cell_type": "markdown",
   "metadata": {},
   "source": [
    "## Multiclass Classification\n",
    "\n",
    "Now we can explore making a classifier that can classify multiple classes (Binary only distinguished between two classes). Algorithms such as Random Forest or Naive Bayes are capable of handling multiple classes, while some such as Support Vector Machine or Linear classifiers can only be binary classifiers. \n",
    "\n",
    "Most Binary classification algorithms scale better with OvA (One-versus-all) while some algorithms such as SVM scale better with OvO (One-versus-one) strategy. Scikit-Learn detects what strategy to use automatically."
   ]
  },
  {
   "cell_type": "code",
   "execution_count": 25,
   "metadata": {},
   "outputs": [
    {
     "name": "stdout",
     "output_type": "stream",
     "text": [
      "The predicted digit is  [ 4.]\n",
      "The highest value corresponds to class  4.0\n"
     ]
    }
   ],
   "source": [
    "sgd_clf.fit(Xtrain,ytrain)\n",
    "print(\"The predicted digit is \", sgd_clf.predict([some_digit]))\n",
    "some_digit_scores=sgd_clf.decision_function([some_digit])\n",
    "print(\"The highest value corresponds to class \",sgd_clf.classes_[np.argmax(some_digit_scores)])"
   ]
  },
  {
   "cell_type": "markdown",
   "metadata": {},
   "source": [
    "The SGDClassifier in this case trained 10 binary classifier (0-or-not, 1-or-not, etc.) and then selected the one with the highest score, therefore implementing the OvA strategy. We can confirm this by looking at the index of the maximum value of the decision function as shown above."
   ]
  },
  {
   "cell_type": "markdown",
   "metadata": {},
   "source": [
    "You can always force Scikit-Learn to use OvO or OvA by using the *OneVsOneClassifier* or *OneVsRestClassifier*. \n",
    "\n",
    "Using a RandomForestClassifier:"
   ]
  },
  {
   "cell_type": "code",
   "execution_count": 26,
   "metadata": {},
   "outputs": [
    {
     "data": {
      "text/plain": [
       "array([ 4.])"
      ]
     },
     "execution_count": 26,
     "metadata": {},
     "output_type": "execute_result"
    }
   ],
   "source": [
    "forest_clf.fit(Xtrain,ytrain)\n",
    "forest_clf.predict([some_digit])"
   ]
  },
  {
   "cell_type": "code",
   "execution_count": 27,
   "metadata": {},
   "outputs": [
    {
     "data": {
      "text/plain": [
       "array([[ 0.,  0.,  0.,  0.,  1.,  0.,  0.,  0.,  0.,  0.]])"
      ]
     },
     "execution_count": 27,
     "metadata": {},
     "output_type": "execute_result"
    }
   ],
   "source": [
    "forest_clf.predict_proba([some_digit])"
   ]
  },
  {
   "cell_type": "markdown",
   "metadata": {},
   "source": [
    "Just with any other classifier, we want to evaluate it on cross-validation. Let's look at *SGDClassifier*'s accuracy:"
   ]
  },
  {
   "cell_type": "code",
   "execution_count": 28,
   "metadata": {},
   "outputs": [
    {
     "data": {
      "text/plain": [
       "array([ 0.87457508,  0.86944347,  0.83122468])"
      ]
     },
     "execution_count": 28,
     "metadata": {},
     "output_type": "execute_result"
    }
   ],
   "source": [
    "cross_val_score(sgd_clf, Xtrain,ytrain,cv=3,scoring=\"accuracy\")"
   ]
  },
  {
   "cell_type": "markdown",
   "metadata": {},
   "source": [
    "We can do better using scaled inputs:"
   ]
  },
  {
   "cell_type": "code",
   "execution_count": 29,
   "metadata": {},
   "outputs": [
    {
     "data": {
      "text/plain": [
       "array([ 0.9080184 ,  0.91084554,  0.90993649])"
      ]
     },
     "execution_count": 29,
     "metadata": {},
     "output_type": "execute_result"
    }
   ],
   "source": [
    "from sklearn.preprocessing import StandardScaler\n",
    "scaler = StandardScaler()\n",
    "Xtrain_scaled = scaler.fit_transform(Xtrain.astype(np.float64))\n",
    "cross_val_score(sgd_clf, Xtrain_scaled,ytrain,cv=3,scoring=\"accuracy\")"
   ]
  },
  {
   "cell_type": "markdown",
   "metadata": {},
   "source": [
    "## Error Analysis\n",
    "\n",
    "Assuming we have the best model, we want to always look at ways to improve it; one of the ways to do it is to analyze the errors. We can first look at the confusion matrix."
   ]
  },
  {
   "cell_type": "code",
   "execution_count": 30,
   "metadata": {},
   "outputs": [
    {
     "data": {
      "text/plain": [
       "array([[5738,    3,   17,   10,   10,   45,   48,    7,   42,    3],\n",
       "       [   2, 6494,   47,   28,    6,   34,    6,   10,  103,   12],\n",
       "       [  52,   44, 5315,  107,   75,   26,  101,   63,  157,   18],\n",
       "       [  44,   35,  136, 5348,    2,  243,   36,   59,  138,   90],\n",
       "       [  21,   27,   38,   10, 5342,    8,   61,   35,   79,  221],\n",
       "       [  67,   40,   31,  194,   64, 4605,  114,   29,  175,  102],\n",
       "       [  28,   29,   40,    2,   39,   94, 5641,    6,   39,    0],\n",
       "       [  24,   21,   67,   28,   54,   11,    6, 5810,   14,  230],\n",
       "       [  49,  158,   63,  159,   12,  169,   61,   30, 5010,  140],\n",
       "       [  36,   32,   30,   91,  161,   31,    2,  206,   87, 5273]])"
      ]
     },
     "execution_count": 30,
     "metadata": {},
     "output_type": "execute_result"
    }
   ],
   "source": [
    "ytrain_pred = cross_val_predict(sgd_clf,Xtrain_scaled, ytrain,cv=3)\n",
    "conf_mx = confusion_matrix(ytrain,ytrain_pred)\n",
    "conf_mx"
   ]
  },
  {
   "cell_type": "code",
   "execution_count": 31,
   "metadata": {},
   "outputs": [
    {
     "data": {
      "text/plain": [
       "<matplotlib.axes._subplots.AxesSubplot at 0x10fdeaba8>"
      ]
     },
     "execution_count": 31,
     "metadata": {},
     "output_type": "execute_result"
    },
    {
     "data": {
      "image/png": "[encoded data removed]",
      "text/plain": [
       "<matplotlib.figure.Figure at 0x10fc73ac8>"
      ]
     },
     "metadata": {},
     "output_type": "display_data"
    }
   ],
   "source": [
    "import seaborn as sns\n",
    "sns.heatmap(conf_mx,annot=True, fmt=\"d\")"
   ]
  },
  {
   "cell_type": "markdown",
   "metadata": {},
   "source": [
    "We can redraw the heatmap using the error rate instead of absolute number by dividing each row by the total number of images in that class."
   ]
  },
  {
   "cell_type": "code",
   "execution_count": 32,
   "metadata": {},
   "outputs": [
    {
     "data": {
      "text/plain": [
       "<matplotlib.axes._subplots.AxesSubplot at 0x10fc737b8>"
      ]
     },
     "execution_count": 32,
     "metadata": {},
     "output_type": "execute_result"
    },
    {
     "data": {
      "image/png": "[encoded data removed]",
      "text/plain": [
       "<matplotlib.figure.Figure at 0x110243710>"
      ]
     },
     "metadata": {},
     "output_type": "display_data"
    }
   ],
   "source": [
    "row_sums = conf_mx.sum(axis=1,keepdims=True)\n",
    "norm_conf_mx = conf_mx/row_sums\n",
    "np.fill_diagonal(norm_conf_mx,0)\n",
    "sns.heatmap(norm_conf_mx, annot=True,fmt=\".3F\")"
   ]
  },
  {
   "cell_type": "markdown",
   "metadata": {},
   "source": [
    "From here we can see that many are misclassified as 8,9 and that 8 and 9 are also misclassified as other digits; we know this because columns 8 and 9 (which represent digits *predicted* as 8 and 9) and rows 8 and 9 (which represent digits *that are* 8 and 9) have lots of higher rates. Conversely, since row 1 has very low rates, we know that digit 1 is usually classified correctly.\n",
    "\n",
    "Individually, the highest rates occur on confusions between 3 and 5, as well as between 7 and 9. Being able to pick these apart, we can then concentrate on improving our classifier to deal with those.\n",
    "\n",
    "## Multilabel Classification\n",
    "\n",
    "In a classification such as face recognition, we want to make sure that we are able to represent our prediction in a binary output with multiple labels. For example, if our categories are \"Alice\", \"Bob\", and \"Charlie\", then a picture of Alice and Charlie should output [1,0,1]. Such classification that outputs multiple labels is called *Multilabel Classification*. We can use an example with the MNIST data to illustrate this. Let's use the K-Neighbors Classifier:"
   ]
  },
  {
   "cell_type": "code",
   "execution_count": 33,
   "metadata": {},
   "outputs": [
    {
     "data": {
      "text/plain": [
       "array([[False, False]], dtype=bool)"
      ]
     },
     "execution_count": 33,
     "metadata": {},
     "output_type": "execute_result"
    }
   ],
   "source": [
    "from sklearn.neighbors import KNeighborsClassifier\n",
    "\n",
    "ytrain_large = (ytrain >= 7)\n",
    "ytrain_odd = (ytrain % 2 == 1)\n",
    "y_multilabel = np.c_[ytrain_large,ytrain_odd]\n",
    "\n",
    "knn_clf = KNeighborsClassifier()\n",
    "knn_clf.fit(Xtrain,y_multilabel)\n",
    "knn_clf.predict([some_digit])"
   ]
  },
  {
   "cell_type": "markdown",
   "metadata": {},
   "source": [
    "We defined two labels in the above example: \"Large\" digit (7,8,9) and \"Odd\" digit (1,3,5,7,9). Given that, we predicted that the digit 4 is False on both labels, and that's correct: 4 is neither large nor odd.\n",
    "\n",
    "There are many ways to evaluate multilabel classifier: we can measure the F1 score for each label then compute the average:"
   ]
  },
  {
   "cell_type": "code",
   "execution_count": null,
   "metadata": {
    "collapsed": true
   },
   "outputs": [],
   "source": [
    "ytrain_knn_pred = cross_val_predict(knn_clf,Xtrain,ytrain,cv=3)\n",
    "f1_score(y_multilabel,ytrain_knn_pred,average=\"macro\")"
   ]
  },
  {
   "cell_type": "markdown",
   "metadata": {},
   "source": [
    "We can always weigh the labels by how important they are (i.e., there is probably more odd digits than large digits, so odd digits should be weighed more) by setting **average=\"weighted\"**."
   ]
  },
  {
   "cell_type": "markdown",
   "metadata": {},
   "source": [
    "## Multioutput Classification"
   ]
  },
  {
   "cell_type": "markdown",
   "metadata": {},
   "source": [
    "The last type of classification task is the multioutput classification, where each label can have more than 2 classes of output. In this example, we will still use the MNIST dataset; however, we will insert random noise that will appear as different shades of grey on each pixel."
   ]
  },
  {
   "cell_type": "code",
   "execution_count": 34,
   "metadata": {
    "collapsed": true
   },
   "outputs": [],
   "source": [
    "noise = np.random.randint(0,100,(len(Xtrain),784))\n",
    "Xtrain_mod = Xtrain + noise\n",
    "noise = np.random.randint(0,100,(len(Xtest),784))\n",
    "Xtest_mod = Xtest + noise\n",
    "ytrain_mod = Xtrain\n",
    "ytest_mod = Xtest"
   ]
  },
  {
   "cell_type": "markdown",
   "metadata": {},
   "source": [
    "We can \"peak\" at one of the test digits, one with the noise added and the target digit with no noise."
   ]
  },
  {
   "cell_type": "code",
   "execution_count": 58,
   "metadata": {},
   "outputs": [
    {
     "data": {
      "image/png": "[encoded data removed]",
      "text/plain": [
       "<matplotlib.figure.Figure at 0x112c8f9b0>"
      ]
     },
     "metadata": {},
     "output_type": "display_data"
    }
   ],
   "source": [
    "some_index = 5500\n",
    "def plot_digit(some_digit):\n",
    "    some_digit_image=some_digit.reshape(28,28)\n",
    "    plt.imshow(some_digit_image,cmap=matplotlib.cm.binary,interpolation=\"nearest\")\n",
    "    plt.axis(\"off\")\n",
    "    \n",
    "plt.subplot(121); plot_digit(Xtest_mod[some_index])\n",
    "plt.subplot(122); plot_digit(ytest_mod[some_index])\n",
    "plt.show()"
   ]
  },
  {
   "cell_type": "markdown",
   "metadata": {},
   "source": [
    "Now we can train the noise \"5\" and see how it cleans up compared to the target image."
   ]
  },
  {
   "cell_type": "code",
   "execution_count": 59,
   "metadata": {},
   "outputs": [],
   "source": [
    "knn_clf.fit(Xtrain_mod,ytrain_mod)\n",
    "clean_digit = knn_clf.predict([Xtest_mod[some_index]])    "
   ]
  },
  {
   "cell_type": "code",
   "execution_count": 60,
   "metadata": {},
   "outputs": [
    {
     "data": {
      "image/png": "[encoded data removed]",
      "text/plain": [
       "<matplotlib.figure.Figure at 0x113111748>"
      ]
     },
     "metadata": {},
     "output_type": "display_data"
    }
   ],
   "source": [
    "plot_digit(clean_digit)\n",
    "plt.show()"
   ]
  },
  {
   "cell_type": "markdown",
   "metadata": {},
   "source": [
    "While it is not quite the target digit, it is close enough to be able to make a prediction."
   ]
  },
  {
   "cell_type": "markdown",
   "metadata": {},
   "source": [
    "## Exercises"
   ]
  },
  {
   "cell_type": "markdown",
   "metadata": {},
   "source": [
    "### Achieving High Accuracy\n",
    "\n",
    "In here, we attempt to build a classifier for the MNIST dataset that achieves over 97% accuracy on the test set. We can try using the KNeighborClassifier but tinker with the hyperparameters to find the best."
   ]
  },
  {
   "cell_type": "code",
   "execution_count": null,
   "metadata": {},
   "outputs": [],
   "source": [
    "from sklearn.model_selection import GridSearchCV\n",
    "from sklearn.neighbors import KNeighborsClassifier\n",
    "grids={'weights':['uniform','distance'],\n",
    "       'n_neighbors':[3,5,10,50,100]\n",
    "      }\n",
    "\n",
    "knn = KNeighborsClassifier()\n",
    "grid_search = GridSearchCV(knn,grids,cv=5,n_jobs=4)\n",
    "grid_search.fit(Xtrain,ytrain)\n",
    "grid_search.best_params_"
   ]
  },
  {
   "cell_type": "markdown",
   "metadata": {},
   "source": [
    "### Data Augmentation\n"
   ]
  },
  {
   "cell_type": "markdown",
   "metadata": {},
   "source": [
    "### Titanic dataset"
   ]
  },
  {
   "cell_type": "markdown",
   "metadata": {},
   "source": [
    "### Spam Classifier"
   ]
  },
  {
   "cell_type": "code",
   "execution_count": null,
   "metadata": {
    "collapsed": true
   },
   "outputs": [],
   "source": []
  }
 ],
 "metadata": {
  "kernelspec": {
   "display_name": "Python 3",
   "language": "python",
   "name": "python3"
  },
  "language_info": {
   "codemirror_mode": {
    "name": "ipython",
    "version": 3
   },
   "file_extension": ".py",
   "mimetype": "text/x-python",
   "name": "python",
   "nbconvert_exporter": "python",
   "pygments_lexer": "ipython3",
   "version": "3.5.0"
  }
 },
 "nbformat": 4,
 "nbformat_minor": 2
}
